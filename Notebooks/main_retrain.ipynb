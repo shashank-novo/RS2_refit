{
 "cells": [
  {
   "cell_type": "code",
   "execution_count": 1,
   "metadata": {},
   "outputs": [
    {
     "name": "stdout",
     "output_type": "stream",
     "text": [
      "/Users/shashankgupta/Documents/code/git_project/RS2_refit\n",
      "/Users/shashankgupta/Documents/code/git_project/RS2_refit/Code\n"
     ]
    }
   ],
   "source": [
    "import os \n",
    "cwd = os.getcwd()\n",
    "\n",
    "os.chdir('../')\n",
    "cwd = os.getcwd()\n",
    "print(cwd)\n",
    " \n",
    "os.chdir('./code/')\n",
    "cwd = os.getcwd()\n",
    "print(cwd)\n",
    "\n",
    "import pandas as pd \n",
    "import numpy as np \n",
    "import seaborn as sns\n",
    "\n",
    "import pickle \n",
    "import logging\n",
    "\n",
    "\n",
    "from config.config import SQLQuery\n",
    "querySno = SQLQuery('snowflake')"
   ]
  },
  {
   "cell_type": "code",
   "execution_count": 2,
   "metadata": {},
   "outputs": [],
   "source": [
    "model = pd.read_pickle('/Users/shashankgupta/Documents/code/git_project/RS2_refit/Models/rs2_model_v2.pkl')\n",
    "transformer = pd.read_pickle('/Users/shashankgupta/Documents/code/git_project/RS2_refit/Models/data_scaler_v2.pkl')\n",
    "data_params = pd.read_pickle('/Users/shashankgupta/Documents/code/git_project/RS2_refit/Models/data_params_v2.pkl')"
   ]
  },
  {
   "cell_type": "code",
   "execution_count": 3,
   "metadata": {},
   "outputs": [
    {
     "data": {
      "text/plain": [
       "array(['od_count_3m', 'zero_balance_count_1m',\n",
       "       'ratio_ach_credit_amt_90_180', 'ratio_ach_debit_amt_90_180',\n",
       "       'stddev_amount_ach_c_1m', 'distinct_ach_c_txns_100_6m',\n",
       "       'distinct_mrdc_txns_1m', 'ratio_debit_credit_1m',\n",
       "       'ratio_debit_credit_3m', 'median_running_balance_6m'], dtype=object)"
      ]
     },
     "execution_count": 3,
     "metadata": {},
     "output_type": "execute_result"
    }
   ],
   "source": [
    "model.feature_names_in_"
   ]
  },
  {
   "cell_type": "code",
   "execution_count": 4,
   "metadata": {},
   "outputs": [
    {
     "data": {
      "text/html": [
       "<div>\n",
       "<style scoped>\n",
       "    .dataframe tbody tr th:only-of-type {\n",
       "        vertical-align: middle;\n",
       "    }\n",
       "\n",
       "    .dataframe tbody tr th {\n",
       "        vertical-align: top;\n",
       "    }\n",
       "\n",
       "    .dataframe thead th {\n",
       "        text-align: right;\n",
       "    }\n",
       "</style>\n",
       "<table border=\"1\" class=\"dataframe\">\n",
       "  <thead>\n",
       "    <tr style=\"text-align: right;\">\n",
       "      <th></th>\n",
       "      <th>feature</th>\n",
       "      <th>median</th>\n",
       "      <th>lower_limit</th>\n",
       "      <th>upper_limit</th>\n",
       "    </tr>\n",
       "  </thead>\n",
       "  <tbody>\n",
       "    <tr>\n",
       "      <th>3</th>\n",
       "      <td>od_count_3m</td>\n",
       "      <td>0.000000</td>\n",
       "      <td>0.0000</td>\n",
       "      <td>50.480000</td>\n",
       "    </tr>\n",
       "    <tr>\n",
       "      <th>6</th>\n",
       "      <td>zero_balance_count_1m</td>\n",
       "      <td>0.000000</td>\n",
       "      <td>0.0000</td>\n",
       "      <td>5.740000</td>\n",
       "    </tr>\n",
       "    <tr>\n",
       "      <th>8</th>\n",
       "      <td>ratio_ach_credit_amt_90_180</td>\n",
       "      <td>0.481349</td>\n",
       "      <td>0.0000</td>\n",
       "      <td>1.000000</td>\n",
       "    </tr>\n",
       "    <tr>\n",
       "      <th>10</th>\n",
       "      <td>ratio_ach_debit_amt_90_180</td>\n",
       "      <td>0.437795</td>\n",
       "      <td>0.0000</td>\n",
       "      <td>1.000000</td>\n",
       "    </tr>\n",
       "    <tr>\n",
       "      <th>64</th>\n",
       "      <td>stddev_amount_ach_c_1m</td>\n",
       "      <td>111.338495</td>\n",
       "      <td>0.0000</td>\n",
       "      <td>6918.901000</td>\n",
       "    </tr>\n",
       "    <tr>\n",
       "      <th>71</th>\n",
       "      <td>distinct_ach_c_txns_100_6m</td>\n",
       "      <td>14.000000</td>\n",
       "      <td>0.0000</td>\n",
       "      <td>94.740000</td>\n",
       "    </tr>\n",
       "    <tr>\n",
       "      <th>113</th>\n",
       "      <td>distinct_mrdc_txns_1m</td>\n",
       "      <td>0.000000</td>\n",
       "      <td>0.0000</td>\n",
       "      <td>9.220000</td>\n",
       "    </tr>\n",
       "    <tr>\n",
       "      <th>133</th>\n",
       "      <td>ratio_debit_credit_1m</td>\n",
       "      <td>1.004027</td>\n",
       "      <td>0.0000</td>\n",
       "      <td>537.812312</td>\n",
       "    </tr>\n",
       "    <tr>\n",
       "      <th>134</th>\n",
       "      <td>ratio_debit_credit_3m</td>\n",
       "      <td>1.027857</td>\n",
       "      <td>0.0000</td>\n",
       "      <td>14.564760</td>\n",
       "    </tr>\n",
       "    <tr>\n",
       "      <th>137</th>\n",
       "      <td>median_running_balance_6m</td>\n",
       "      <td>743.540000</td>\n",
       "      <td>0.9546</td>\n",
       "      <td>33732.172800</td>\n",
       "    </tr>\n",
       "  </tbody>\n",
       "</table>\n",
       "</div>"
      ],
      "text/plain": [
       "                         feature      median  lower_limit   upper_limit\n",
       "3                    od_count_3m    0.000000       0.0000     50.480000\n",
       "6          zero_balance_count_1m    0.000000       0.0000      5.740000\n",
       "8    ratio_ach_credit_amt_90_180    0.481349       0.0000      1.000000\n",
       "10    ratio_ach_debit_amt_90_180    0.437795       0.0000      1.000000\n",
       "64        stddev_amount_ach_c_1m  111.338495       0.0000   6918.901000\n",
       "71    distinct_ach_c_txns_100_6m   14.000000       0.0000     94.740000\n",
       "113        distinct_mrdc_txns_1m    0.000000       0.0000      9.220000\n",
       "133        ratio_debit_credit_1m    1.004027       0.0000    537.812312\n",
       "134        ratio_debit_credit_3m    1.027857       0.0000     14.564760\n",
       "137    median_running_balance_6m  743.540000       0.9546  33732.172800"
      ]
     },
     "execution_count": 4,
     "metadata": {},
     "output_type": "execute_result"
    }
   ],
   "source": [
    "data_params"
   ]
  },
  {
   "cell_type": "code",
   "execution_count": 5,
   "metadata": {},
   "outputs": [
    {
     "data": {
      "text/plain": [
       "(710, 10)"
      ]
     },
     "execution_count": 5,
     "metadata": {},
     "output_type": "execute_result"
    }
   ],
   "source": [
    "df_raw = pd.read_pickle('/Users/shashankgupta/Documents/code/git_project/RS2_refit/Data/plaid_lending_data.pkl')\n",
    "df_raw.shape"
   ]
  },
  {
   "cell_type": "code",
   "execution_count": 6,
   "metadata": {},
   "outputs": [
    {
     "data": {
      "text/html": [
       "<div>\n",
       "<style scoped>\n",
       "    .dataframe tbody tr th:only-of-type {\n",
       "        vertical-align: middle;\n",
       "    }\n",
       "\n",
       "    .dataframe tbody tr th {\n",
       "        vertical-align: top;\n",
       "    }\n",
       "\n",
       "    .dataframe thead th {\n",
       "        text-align: right;\n",
       "    }\n",
       "</style>\n",
       "<table border=\"1\" class=\"dataframe\">\n",
       "  <thead>\n",
       "    <tr style=\"text-align: right;\">\n",
       "      <th></th>\n",
       "      <th>od_count_3m</th>\n",
       "      <th>zero_balance_count_1m</th>\n",
       "      <th>ratio_ach_credit_amt_90_180</th>\n",
       "      <th>ratio_ach_debit_amt_90_180</th>\n",
       "      <th>stddev_amount_ach_c_1m</th>\n",
       "      <th>distinct_ach_c_txns_100_6m</th>\n",
       "      <th>distinct_mrdc_txns_1m</th>\n",
       "      <th>ratio_debit_credit_1m</th>\n",
       "      <th>ratio_debit_credit_3m</th>\n",
       "      <th>median_running_balance_6m</th>\n",
       "    </tr>\n",
       "  </thead>\n",
       "  <tbody>\n",
       "    <tr>\n",
       "      <th>0</th>\n",
       "      <td>88.0</td>\n",
       "      <td>0.0</td>\n",
       "      <td>0.0</td>\n",
       "      <td>0.0</td>\n",
       "      <td>0.0</td>\n",
       "      <td>0.0</td>\n",
       "      <td>0.0</td>\n",
       "      <td>0.965375</td>\n",
       "      <td>1.093060</td>\n",
       "      <td>-588.455</td>\n",
       "    </tr>\n",
       "    <tr>\n",
       "      <th>1</th>\n",
       "      <td>7.0</td>\n",
       "      <td>0.0</td>\n",
       "      <td>0.0</td>\n",
       "      <td>1.0</td>\n",
       "      <td>0.0</td>\n",
       "      <td>0.0</td>\n",
       "      <td>0.0</td>\n",
       "      <td>0.937929</td>\n",
       "      <td>1.004346</td>\n",
       "      <td>2076.340</td>\n",
       "    </tr>\n",
       "    <tr>\n",
       "      <th>2</th>\n",
       "      <td>89.0</td>\n",
       "      <td>0.0</td>\n",
       "      <td>0.0</td>\n",
       "      <td>1.0</td>\n",
       "      <td>0.0</td>\n",
       "      <td>0.0</td>\n",
       "      <td>0.0</td>\n",
       "      <td>0.788224</td>\n",
       "      <td>0.981938</td>\n",
       "      <td>-6043.300</td>\n",
       "    </tr>\n",
       "    <tr>\n",
       "      <th>3</th>\n",
       "      <td>90.0</td>\n",
       "      <td>0.0</td>\n",
       "      <td>0.0</td>\n",
       "      <td>0.0</td>\n",
       "      <td>0.0</td>\n",
       "      <td>0.0</td>\n",
       "      <td>0.0</td>\n",
       "      <td>0.553403</td>\n",
       "      <td>0.496360</td>\n",
       "      <td>-1441.830</td>\n",
       "    </tr>\n",
       "    <tr>\n",
       "      <th>4</th>\n",
       "      <td>0.0</td>\n",
       "      <td>0.0</td>\n",
       "      <td>0.0</td>\n",
       "      <td>0.0</td>\n",
       "      <td>0.0</td>\n",
       "      <td>0.0</td>\n",
       "      <td>0.0</td>\n",
       "      <td>0.115849</td>\n",
       "      <td>0.861320</td>\n",
       "      <td>1217.350</td>\n",
       "    </tr>\n",
       "  </tbody>\n",
       "</table>\n",
       "</div>"
      ],
      "text/plain": [
       "   od_count_3m  zero_balance_count_1m  ratio_ach_credit_amt_90_180  \\\n",
       "0         88.0                    0.0                          0.0   \n",
       "1          7.0                    0.0                          0.0   \n",
       "2         89.0                    0.0                          0.0   \n",
       "3         90.0                    0.0                          0.0   \n",
       "4          0.0                    0.0                          0.0   \n",
       "\n",
       "   ratio_ach_debit_amt_90_180  stddev_amount_ach_c_1m  \\\n",
       "0                         0.0                     0.0   \n",
       "1                         1.0                     0.0   \n",
       "2                         1.0                     0.0   \n",
       "3                         0.0                     0.0   \n",
       "4                         0.0                     0.0   \n",
       "\n",
       "   distinct_ach_c_txns_100_6m  distinct_mrdc_txns_1m  ratio_debit_credit_1m  \\\n",
       "0                         0.0                    0.0               0.965375   \n",
       "1                         0.0                    0.0               0.937929   \n",
       "2                         0.0                    0.0               0.788224   \n",
       "3                         0.0                    0.0               0.553403   \n",
       "4                         0.0                    0.0               0.115849   \n",
       "\n",
       "   ratio_debit_credit_3m  median_running_balance_6m  \n",
       "0               1.093060                   -588.455  \n",
       "1               1.004346                   2076.340  \n",
       "2               0.981938                  -6043.300  \n",
       "3               0.496360                  -1441.830  \n",
       "4               0.861320                   1217.350  "
      ]
     },
     "execution_count": 6,
     "metadata": {},
     "output_type": "execute_result"
    }
   ],
   "source": [
    "df_raw.head()"
   ]
  },
  {
   "cell_type": "code",
   "execution_count": 7,
   "metadata": {},
   "outputs": [],
   "source": [
    "final_cols = ['od_count_3m', 'zero_balance_count_1m',\n",
    "       'ratio_ach_credit_amt_90_180', 'ratio_ach_debit_amt_90_180',\n",
    "       'stddev_amount_ach_c_1m', 'distinct_ach_c_txns_100_6m',\n",
    "       'distinct_mrdc_txns_1m', 'ratio_debit_credit_1m',\n",
    "       'ratio_debit_credit_3m', 'median_running_balance_6m']"
   ]
  },
  {
   "cell_type": "code",
   "execution_count": 8,
   "metadata": {},
   "outputs": [
    {
     "name": "stdout",
     "output_type": "stream",
     "text": [
      "/Users/shashankgupta/Documents/code/git_project/RS2_refit\n",
      "/Users/shashankgupta/Documents/code/git_project/RS2_refit/Code\n"
     ]
    }
   ],
   "source": [
    "from score_funcs import Score\n",
    "sc = Score()"
   ]
  },
  {
   "cell_type": "code",
   "execution_count": 9,
   "metadata": {},
   "outputs": [],
   "source": [
    "df0 = sc.preprocess(df_raw,sc.features,data_params,transformer)"
   ]
  },
  {
   "cell_type": "code",
   "execution_count": 10,
   "metadata": {},
   "outputs": [],
   "source": [
    "df0 = sc.model_scoring_redec(df0,sc.features,model)"
   ]
  },
  {
   "cell_type": "code",
   "execution_count": 11,
   "metadata": {},
   "outputs": [
    {
     "data": {
      "text/html": [
       "<div>\n",
       "<style scoped>\n",
       "    .dataframe tbody tr th:only-of-type {\n",
       "        vertical-align: middle;\n",
       "    }\n",
       "\n",
       "    .dataframe tbody tr th {\n",
       "        vertical-align: top;\n",
       "    }\n",
       "\n",
       "    .dataframe thead th {\n",
       "        text-align: right;\n",
       "    }\n",
       "</style>\n",
       "<table border=\"1\" class=\"dataframe\">\n",
       "  <thead>\n",
       "    <tr style=\"text-align: right;\">\n",
       "      <th></th>\n",
       "      <th>od_count_3m</th>\n",
       "      <th>zero_balance_count_1m</th>\n",
       "      <th>ratio_ach_credit_amt_90_180</th>\n",
       "      <th>ratio_ach_debit_amt_90_180</th>\n",
       "      <th>stddev_amount_ach_c_1m</th>\n",
       "      <th>distinct_ach_c_txns_100_6m</th>\n",
       "      <th>distinct_mrdc_txns_1m</th>\n",
       "      <th>ratio_debit_credit_1m</th>\n",
       "      <th>ratio_debit_credit_3m</th>\n",
       "      <th>median_running_balance_6m</th>\n",
       "      <th>rs2_plaid_proba</th>\n",
       "      <th>rs2_plaid_score</th>\n",
       "      <th>rs2_plaid_bin</th>\n",
       "    </tr>\n",
       "  </thead>\n",
       "  <tbody>\n",
       "    <tr>\n",
       "      <th>0</th>\n",
       "      <td>5.524630</td>\n",
       "      <td>-0.133836</td>\n",
       "      <td>-1.720023</td>\n",
       "      <td>-1.295210</td>\n",
       "      <td>-0.477802</td>\n",
       "      <td>-0.971927</td>\n",
       "      <td>-0.311693</td>\n",
       "      <td>-0.158426</td>\n",
       "      <td>-0.136449</td>\n",
       "      <td>-0.474297</td>\n",
       "      <td>0.928641</td>\n",
       "      <td>71.359075</td>\n",
       "      <td>1</td>\n",
       "    </tr>\n",
       "    <tr>\n",
       "      <th>1</th>\n",
       "      <td>0.453901</td>\n",
       "      <td>-0.133836</td>\n",
       "      <td>-1.720023</td>\n",
       "      <td>1.720477</td>\n",
       "      <td>-0.477802</td>\n",
       "      <td>-0.971927</td>\n",
       "      <td>-0.311693</td>\n",
       "      <td>-0.158858</td>\n",
       "      <td>-0.190585</td>\n",
       "      <td>-0.033939</td>\n",
       "      <td>0.557228</td>\n",
       "      <td>442.772238</td>\n",
       "      <td>2</td>\n",
       "    </tr>\n",
       "    <tr>\n",
       "      <th>2</th>\n",
       "      <td>5.524630</td>\n",
       "      <td>-0.133836</td>\n",
       "      <td>-1.720023</td>\n",
       "      <td>1.720477</td>\n",
       "      <td>-0.477802</td>\n",
       "      <td>-0.971927</td>\n",
       "      <td>-0.311693</td>\n",
       "      <td>-0.161217</td>\n",
       "      <td>-0.204260</td>\n",
       "      <td>-0.474297</td>\n",
       "      <td>0.930086</td>\n",
       "      <td>69.914114</td>\n",
       "      <td>1</td>\n",
       "    </tr>\n",
       "    <tr>\n",
       "      <th>3</th>\n",
       "      <td>5.524630</td>\n",
       "      <td>-0.133836</td>\n",
       "      <td>-1.720023</td>\n",
       "      <td>-1.295210</td>\n",
       "      <td>-0.477802</td>\n",
       "      <td>-0.971927</td>\n",
       "      <td>-0.311693</td>\n",
       "      <td>-0.164917</td>\n",
       "      <td>-0.500574</td>\n",
       "      <td>-0.474297</td>\n",
       "      <td>0.922371</td>\n",
       "      <td>77.629055</td>\n",
       "      <td>1</td>\n",
       "    </tr>\n",
       "    <tr>\n",
       "      <th>4</th>\n",
       "      <td>-0.362454</td>\n",
       "      <td>-0.133836</td>\n",
       "      <td>-1.720023</td>\n",
       "      <td>-1.295210</td>\n",
       "      <td>-0.477802</td>\n",
       "      <td>-0.971927</td>\n",
       "      <td>-0.311693</td>\n",
       "      <td>-0.171812</td>\n",
       "      <td>-0.277864</td>\n",
       "      <td>-0.216200</td>\n",
       "      <td>0.495563</td>\n",
       "      <td>504.437448</td>\n",
       "      <td>2</td>\n",
       "    </tr>\n",
       "  </tbody>\n",
       "</table>\n",
       "</div>"
      ],
      "text/plain": [
       "   od_count_3m  zero_balance_count_1m  ratio_ach_credit_amt_90_180  \\\n",
       "0     5.524630              -0.133836                    -1.720023   \n",
       "1     0.453901              -0.133836                    -1.720023   \n",
       "2     5.524630              -0.133836                    -1.720023   \n",
       "3     5.524630              -0.133836                    -1.720023   \n",
       "4    -0.362454              -0.133836                    -1.720023   \n",
       "\n",
       "   ratio_ach_debit_amt_90_180  stddev_amount_ach_c_1m  \\\n",
       "0                   -1.295210               -0.477802   \n",
       "1                    1.720477               -0.477802   \n",
       "2                    1.720477               -0.477802   \n",
       "3                   -1.295210               -0.477802   \n",
       "4                   -1.295210               -0.477802   \n",
       "\n",
       "   distinct_ach_c_txns_100_6m  distinct_mrdc_txns_1m  ratio_debit_credit_1m  \\\n",
       "0                   -0.971927              -0.311693              -0.158426   \n",
       "1                   -0.971927              -0.311693              -0.158858   \n",
       "2                   -0.971927              -0.311693              -0.161217   \n",
       "3                   -0.971927              -0.311693              -0.164917   \n",
       "4                   -0.971927              -0.311693              -0.171812   \n",
       "\n",
       "   ratio_debit_credit_3m  median_running_balance_6m  rs2_plaid_proba  \\\n",
       "0              -0.136449                  -0.474297         0.928641   \n",
       "1              -0.190585                  -0.033939         0.557228   \n",
       "2              -0.204260                  -0.474297         0.930086   \n",
       "3              -0.500574                  -0.474297         0.922371   \n",
       "4              -0.277864                  -0.216200         0.495563   \n",
       "\n",
       "   rs2_plaid_score  rs2_plaid_bin  \n",
       "0        71.359075              1  \n",
       "1       442.772238              2  \n",
       "2        69.914114              1  \n",
       "3        77.629055              1  \n",
       "4       504.437448              2  "
      ]
     },
     "execution_count": 11,
     "metadata": {},
     "output_type": "execute_result"
    }
   ],
   "source": [
    "df0.head()"
   ]
  },
  {
   "cell_type": "code",
   "execution_count": 12,
   "metadata": {},
   "outputs": [
    {
     "data": {
      "text/plain": [
       "1    453\n",
       "2     96\n",
       "3     84\n",
       "5     43\n",
       "4     34\n",
       "Name: rs2_plaid_bin, dtype: int64"
      ]
     },
     "execution_count": 12,
     "metadata": {},
     "output_type": "execute_result"
    }
   ],
   "source": [
    "df0['rs2_plaid_bin'].value_counts()"
   ]
  },
  {
   "cell_type": "code",
   "execution_count": null,
   "metadata": {},
   "outputs": [],
   "source": []
  }
 ],
 "metadata": {
  "kernelspec": {
   "display_name": "Python 3.10.5 64-bit",
   "language": "python",
   "name": "python3"
  },
  "language_info": {
   "codemirror_mode": {
    "name": "ipython",
    "version": 3
   },
   "file_extension": ".py",
   "mimetype": "text/x-python",
   "name": "python",
   "nbconvert_exporter": "python",
   "pygments_lexer": "ipython3",
   "version": "3.10.5"
  },
  "orig_nbformat": 4,
  "vscode": {
   "interpreter": {
    "hash": "aee8b7b246df8f9039afb4144a1f6fd8d2ca17a180786b69acc140d282b71a49"
   }
  }
 },
 "nbformat": 4,
 "nbformat_minor": 2
}
